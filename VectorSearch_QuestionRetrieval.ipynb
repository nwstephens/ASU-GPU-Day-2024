{
 "cells": [
  {
   "cell_type": "markdown",
   "id": "f5499b54",
   "metadata": {},
   "source": [
    "\n",
    "# Similar Questions Retrieval\n",
    "\n",
    "This notebook is inspired by the [similar search example of Sentence-Transformers](https://www.sbert.net/examples/applications/semantic-search/README.html#similar-questions-retrieval), and adapted to support [RAFT ANN](https://github.com/rapidsai/raft) algorithm.\n",
    "\n",
    "The model was pre-trained on the [Natural Questions dataset](https://ai.google.com/research/NaturalQuestions). It consists of about 100k real Google search queries, together with an annotated passage from Wikipedia that provides the answer. It is an example of an asymmetric search task. As corpus, we use the smaller [Simple English Wikipedia](http://sbert.net/datasets/simplewiki-2020-11-01.jsonl.gz) so that it fits easily into memory.\n",
    "\n",
    "The steps to install the latest stable `pylibraft` package are available in the [documentation](https://docs.rapids.ai/api/raft/stable/build)."
   ]
  },
  {
   "cell_type": "markdown",
   "id": "b2349ba2",
   "metadata": {},
   "source": [
    "## Setup"
   ]
  },
  {
   "cell_type": "code",
   "execution_count": 1,
   "id": "eb1e81c3",
   "metadata": {},
   "outputs": [
    {
     "name": "stdout",
     "output_type": "stream",
     "text": [
      "Tue Apr  2 23:24:59 2024       \n",
      "+-----------------------------------------------------------------------------+\n",
      "| NVIDIA-SMI 520.61.05    Driver Version: 520.61.05    CUDA Version: 11.8     |\n",
      "|-------------------------------+----------------------+----------------------+\n",
      "| GPU  Name        Persistence-M| Bus-Id        Disp.A | Volatile Uncorr. ECC |\n",
      "| Fan  Temp  Perf  Pwr:Usage/Cap|         Memory-Usage | GPU-Util  Compute M. |\n",
      "|                               |                      |               MIG M. |\n",
      "|===============================+======================+======================|\n",
      "|   0  NVIDIA A10G         On   | 00000000:00:1E.0 Off |                    0 |\n",
      "|  0%   29C    P0    58W / 300W |  12900MiB / 23028MiB |      0%      Default |\n",
      "|                               |                      |                  N/A |\n",
      "+-------------------------------+----------------------+----------------------+\n",
      "                                                                               \n",
      "+-----------------------------------------------------------------------------+\n",
      "| Processes:                                                                  |\n",
      "|  GPU   GI   CI        PID   Type   Process name                  GPU Memory |\n",
      "|        ID   ID                                                   Usage      |\n",
      "|=============================================================================|\n",
      "|    0   N/A  N/A     21730      C   milvus                          12790MiB |\n",
      "+-----------------------------------------------------------------------------+\n"
     ]
    }
   ],
   "source": [
    "!nvidia-smi"
   ]
  },
  {
   "cell_type": "code",
   "execution_count": 2,
   "id": "ee4c5cc0",
   "metadata": {},
   "outputs": [
    {
     "name": "stderr",
     "output_type": "stream",
     "text": [
      "/home/ubuntu/miniforge3/envs/asu/lib/python3.10/site-packages/tqdm/auto.py:21: TqdmWarning: IProgress not found. Please update jupyter and ipywidgets. See https://ipywidgets.readthedocs.io/en/stable/user_install.html\n",
      "  from .autonotebook import tqdm as notebook_tqdm\n"
     ]
    }
   ],
   "source": [
    "import json\n",
    "from sentence_transformers import SentenceTransformer, CrossEncoder, util\n",
    "import time\n",
    "import gzip\n",
    "import os\n",
    "import torch\n",
    "import pylibraft\n",
    "from pylibraft.neighbors import ivf_flat, ivf_pq, brute_force\n",
    "#from pylibraft.neighbors.brute_force import knn\n",
    "\n",
    "pylibraft.config.set_output_as(lambda device_ndarray: device_ndarray.copy_to_host())\n",
    "\n",
    "if not torch.cuda.is_available():\n",
    "  print(\"Warning: No GPU found. Please add GPU to your notebook\")"
   ]
  },
  {
   "cell_type": "markdown",
   "id": "3bfd23d4",
   "metadata": {},
   "source": [
    "### Download data"
   ]
  },
  {
   "cell_type": "code",
   "execution_count": 3,
   "id": "485fb13b",
   "metadata": {},
   "outputs": [
    {
     "name": "stdout",
     "output_type": "stream",
     "text": [
      "Passages: 509663\n"
     ]
    },
    {
     "data": {
      "text/plain": [
       "[['Ted Cassidy',\n",
       "  'Ted Cassidy (July 31, 1932 - January 16, 1979) was an American actor. He was best known for his roles as Lurch and Thing on \"The Addams Family\".'],\n",
       " ['Aileen Wuornos',\n",
       "  'Aileen Carol Wuornos Pralle (born Aileen Carol Pittman; February 29, 1956\\xa0– October 9, 2002) was an American serial killer. She was born in Rochester, Michigan. She confessed to killing six men in Florida and was executed in Florida State Prison by lethal injection for the murders. Wuornos said that the men she killed had raped her or tried to rape her while she was working as a prostitute.'],\n",
       " ['Aileen Wuornos',\n",
       "  'Wuornos was diagnosed with antisocial personality disorder and borderline personality disorder.'],\n",
       " ['Aileen Wuornos',\n",
       "  'The movie, \"Monster\" is about her life. Two documentaries were made about her.'],\n",
       " ['Aileen Wuornos',\n",
       "  'Wuornos was born Aileen Carol Pittman in Rochester, Michigan. She never met her father. Wuornos was adopted by her grandparents. When she was 13 she became pregnant. She started working as a prostitute when she was 14.'],\n",
       " ['Crater',\n",
       "  \"A crater is a round dent on a planet. They are usually shaped like a circle or an oval. They are usually made by something like a meteor hitting the surface of a planet. Underground activity such as volcanoes or explosions can also cause them but it's not as likely.\"],\n",
       " ['Store', 'Store has several meanings:'],\n",
       " ['Chinese New Year',\n",
       "  'Chinese New Year, known in China as the SpringFestival and in Singapore as the LunarNewYear, is a holiday on and around the new moon on the first day of the year in the traditional Chinese calendar. This calendar is based on the changes in the moon and is only sometimes changed to fit the seasons of the year based on how the Earth moves around the sun. Because of this, Chinese New Year is never on January1. It moves around between January21 and February20.'],\n",
       " ['Chinese New Year',\n",
       "  'The Chinese New Year is of the most important holidays for Chinese people all over the world. Its 7th day used to be used instead of birthdays to count people\\'s ages in China. The holiday is still used to tell people which \"animal\" of the Chinese zodiac they are part of. The holiday is a time for gifts to children and for family gatherings with large meals, just like Christmas in Europe and in other Christian areas. Unlike Christmas, the children usually get gifts of cash in red envelopes (\"hongbao\") and not toys or clothes.'],\n",
       " ['Chinese New Year',\n",
       "  'Chinese New Year used to last 15 days until the Lantern Festival on the year\\'s first full moon. Now, it is a national holiday in the Republic and People\\'s Republic of China, the Philippines, Singapore, Malaysia, Brunei, and Indonesia. It is also celebrated in some parts of Thailand. In some places, only the first day or three days are celebrated. In the PRC, nearby weekends are changed to create a 7-day-long \"Golden Week\".']]"
      ]
     },
     "execution_count": 3,
     "metadata": {},
     "output_type": "execute_result"
    }
   ],
   "source": [
    "# As dataset, we use Simple English Wikipedia. Compared to the full English wikipedia, it has only about 170k articles.\n",
    "wikipedia_filepath = 'data/simplewiki-2020-11-01.jsonl.gz'\n",
    "if not os.path.exists(wikipedia_filepath):\n",
    "    util.http_get('http://sbert.net/datasets/simplewiki-2020-11-01.jsonl.gz', wikipedia_filepath)\n",
    "\n",
    "# We split these articles into paragraphs and encode them with the bi-encoder\n",
    "passages = []\n",
    "with gzip.open(wikipedia_filepath, 'rt', encoding='utf8') as fIn:\n",
    "    for line in fIn:\n",
    "        data = json.loads(line.strip())\n",
    "        for paragraph in data['paragraphs']:\n",
    "            # We encode the passages as [title, text]\n",
    "            passages.append([data['title'], paragraph])\n",
    "\n",
    "# Print some records\n",
    "print(\"Passages:\", len(passages))\n",
    "passages[:10]\n"
   ]
  },
  {
   "cell_type": "markdown",
   "id": "e86dc42d",
   "metadata": {},
   "source": [
    "### Create embeddings"
   ]
  },
  {
   "cell_type": "code",
   "execution_count": 4,
   "id": "f8354af9",
   "metadata": {},
   "outputs": [
    {
     "name": "stdout",
     "output_type": "stream",
     "text": [
      "Embeddings: torch.Size([509663, 768])\n",
      "tensor([[-0.7202,  0.7744, -0.8594,  ...,  1.1328,  0.4304, -0.3044],\n",
      "        [ 0.4700, -0.6401,  0.1376,  ...,  0.0387,  0.1492, -0.1414],\n",
      "        [ 0.2217, -0.2505,  0.3696,  ..., -0.1370,  0.0877, -0.2290],\n",
      "        ...,\n",
      "        [-0.4033, -0.1987, -0.0778,  ..., -0.4033, -0.1087,  0.3325],\n",
      "        [ 0.2500,  0.6196,  0.0111,  ..., -0.2964, -0.5605,  0.5493],\n",
      "        [ 0.8735,  0.9517, -0.0433,  ...,  0.3572, -0.5850,  0.1927]],\n",
      "       device='cuda:0')\n"
     ]
    }
   ],
   "source": [
    "bi_encoder = SentenceTransformer('nq-distilbert-base-v1')\n",
    "\n",
    "# Compute the corpus_embeddings from scratch (which can take a while depending on the GPU)\n",
    "#corpus_embeddings = bi_encoder.encode(passages, convert_to_tensor=True, show_progress_bar=True)\n",
    "\n",
    "# To speed things up, pre-computed embeddings are downloaded.\n",
    "# The provided file encoded the passages with the model 'nq-distilbert-base-v1'\n",
    "embeddings_filepath = 'simplewiki-2020-11-01-nq-distilbert-base-v1.pt'\n",
    "if not os.path.exists(embeddings_filepath):\n",
    "    util.http_get('http://sbert.net/datasets/simplewiki-2020-11-01-nq-distilbert-base-v1.pt', embeddings_filepath)\n",
    "\n",
    "# Load embeddings\n",
    "corpus_embeddings = torch.load(embeddings_filepath)\n",
    "corpus_embeddings = corpus_embeddings.float()  # Convert embedding file to float\n",
    "corpus_embeddings = corpus_embeddings.to('cuda')\n",
    "\n",
    "# Print some embeddings\n",
    "print(\"Embeddings:\", corpus_embeddings.shape)\n",
    "print(corpus_embeddings)"
   ]
  },
  {
   "cell_type": "markdown",
   "id": "1f4e9b9d",
   "metadata": {},
   "source": [
    "## Vector Search"
   ]
  },
  {
   "cell_type": "code",
   "execution_count": 5,
   "id": "b3feb362",
   "metadata": {},
   "outputs": [],
   "source": [
    "import cupy as cp\n",
    "from pylibraft.common import DeviceResources\n",
    "from pylibraft.neighbors.brute_force import knn\n",
    "n_samples = 50000\n",
    "n_features = 50\n",
    "n_queries = 1000\n",
    "dataset = cp.random.random_sample((n_samples, n_features),\n",
    "                                  dtype=cp.float32)\n",
    "# Search using the built index\n",
    "queries = cp.random.random_sample((n_queries, n_features),\n",
    "                                  dtype=cp.float32)\n",
    "k = 40\n",
    "distances, neighbors = knn(dataset, queries, k)\n",
    "distances = cp.asarray(distances)\n",
    "neighbors = cp.asarray(neighbors)"
   ]
  },
  {
   "cell_type": "markdown",
   "id": "a9d169b4",
   "metadata": {},
   "source": [
    "### Brute Force"
   ]
  },
  {
   "cell_type": "code",
   "execution_count": 6,
   "id": "c4f751f7",
   "metadata": {},
   "outputs": [
    {
     "name": "stdout",
     "output_type": "stream",
     "text": [
      "CPU times: user 2 µs, sys: 0 ns, total: 2 µs\n",
      "Wall time: 4.29 µs\n"
     ]
    }
   ],
   "source": [
    "%%time\n",
    "\n",
    "def search_raft_knn(query, top_k = 5):\n",
    "    # Encode the query using the bi-encoder and find potentially relevant passages\n",
    "    question_embedding = bi_encoder.encode(query, convert_to_tensor=True)\n",
    "    \n",
    "    start_time = time.time()\n",
    "    hits = brute_force.knn(corpus_embeddings, question_embedding[None], top_k)\n",
    "    end_time = time.time()\n",
    "\n",
    "    # Output of top-k hits\n",
    "    print(\"Input question:\", query)\n",
    "    print(\"Results (after {:.3f} seconds):\".format(end_time - start_time))\n",
    "    for k in range(top_k):\n",
    "        print(\"\\t{:.3f}\\t{}\".format(hits[0][0, k], passages[hits[1][0, k]]))"
   ]
  },
  {
   "cell_type": "code",
   "execution_count": 7,
   "id": "0b38b098",
   "metadata": {},
   "outputs": [
    {
     "name": "stdout",
     "output_type": "stream",
     "text": [
      "Input question: Who was Grace Hopper?\n",
      "Results (after 0.009 seconds):\n",
      "\t181.649\t['Grace Hopper', 'Hopper was born in New York, USA. Hopper graduated from Vassar College in 1928 and Yale University in 1934 with a Ph.D degree in mathematics. She joined the US Navy during the World War II in 1943. She worked on computers in the Navy for 43 years. She then worked in other private industry companies after 1949. She retired from the Navy in 1986 and died on January 1, 1992.']\n",
      "\t192.946\t['Leona Helmsley', 'Leona Helmsley (July 4, 1920 – August 20, 2007) was an American businesswoman. She was known for having a flamboyant personality. She had a reputation for tyrannical behavior; she was nicknamed the Queen of Mean.']\n",
      "\t194.951\t['Grace Hopper', 'Grace Murray Hopper (December 9 1906 – January 1 1992) was an American computer scientist and United States Navy officer.']\n",
      "\t202.192\t['Nellie Bly', 'Elizabeth Cochrane Seaman (born Elizabeth Jane Cochran; May 5, 1864 – January 27, 1922), better known by her pen name Nellie Bly, was an American journalist, novelist and inventor. She was a newspaper reporter, who worked at various jobs for exposing poor working conditions. Nellie Bly, also, fought for women\\'s right and was known for investigative reporting. She best known for her record-breaking trip around the world in 72 days, inspired by the adventure novel \"Around the World in Eighty Days\" by Jules Verne. In the 1880s, she went undercover as a mentally ill patient in a psychiatric hospital for ten days, with the report being made public in a book called \"\"Ten Days in a Mad-House\"\". She was added to the National Women\\'s Hall of Fame in 1998.']\n",
      "\t205.038\t['Abbie Hoffman', 'Abbot Howard \"Abbie\" Hoffman (November 30, 1936 – April 12, 1989) was an American social and political activist.']\n",
      "CPU times: user 856 ms, sys: 228 ms, total: 1.08 s\n",
      "Wall time: 1.08 s\n"
     ]
    }
   ],
   "source": [
    "%%time\n",
    "search_raft_knn(query=\"Who was Grace Hopper?\")"
   ]
  },
  {
   "cell_type": "markdown",
   "id": "5a5e97cd",
   "metadata": {},
   "source": [
    "### IVF-Flat"
   ]
  },
  {
   "cell_type": "code",
   "execution_count": 8,
   "id": "2d6017ed",
   "metadata": {},
   "outputs": [
    {
     "name": "stdout",
     "output_type": "stream",
     "text": [
      "CPU times: user 762 ms, sys: 36.7 ms, total: 798 ms\n",
      "Wall time: 794 ms\n"
     ]
    }
   ],
   "source": [
    "%%time\n",
    "params = ivf_flat.IndexParams(n_lists=150)\n",
    "flat_index = ivf_flat.build(params, corpus_embeddings)\n",
    "search_params = ivf_flat.SearchParams()\n",
    "\n",
    "def search_raft_flat(query, top_k = 5):\n",
    "    # Encode the query using the bi-encoder and find potentially relevant passages\n",
    "    question_embedding = bi_encoder.encode(query, convert_to_tensor=True)\n",
    "    \n",
    "    start_time = time.time()\n",
    "    hits = ivf_flat.search(search_params, flat_index, question_embedding[None], top_k)\n",
    "    end_time = time.time()\n",
    "\n",
    "    # Output of top-k hits\n",
    "    print(\"Input question:\", query)\n",
    "    print(\"Results (after {:.3f} seconds):\".format(end_time - start_time))\n",
    "    for k in range(top_k):\n",
    "        print(\"\\t{:.3f}\\t{}\".format(hits[0][0, k], passages[hits[1][0, k]]))"
   ]
  },
  {
   "cell_type": "code",
   "execution_count": 9,
   "id": "f5cfb644",
   "metadata": {},
   "outputs": [
    {
     "name": "stdout",
     "output_type": "stream",
     "text": [
      "Input question: Who was Grace Hopper?\n",
      "Results (after 0.002 seconds):\n",
      "\t181.649\t['Grace Hopper', 'Hopper was born in New York, USA. Hopper graduated from Vassar College in 1928 and Yale University in 1934 with a Ph.D degree in mathematics. She joined the US Navy during the World War II in 1943. She worked on computers in the Navy for 43 years. She then worked in other private industry companies after 1949. She retired from the Navy in 1986 and died on January 1, 1992.']\n",
      "\t192.946\t['Leona Helmsley', 'Leona Helmsley (July 4, 1920 – August 20, 2007) was an American businesswoman. She was known for having a flamboyant personality. She had a reputation for tyrannical behavior; she was nicknamed the Queen of Mean.']\n",
      "\t194.951\t['Grace Hopper', 'Grace Murray Hopper (December 9 1906 – January 1 1992) was an American computer scientist and United States Navy officer.']\n",
      "\t202.192\t['Nellie Bly', 'Elizabeth Cochrane Seaman (born Elizabeth Jane Cochran; May 5, 1864 – January 27, 1922), better known by her pen name Nellie Bly, was an American journalist, novelist and inventor. She was a newspaper reporter, who worked at various jobs for exposing poor working conditions. Nellie Bly, also, fought for women\\'s right and was known for investigative reporting. She best known for her record-breaking trip around the world in 72 days, inspired by the adventure novel \"Around the World in Eighty Days\" by Jules Verne. In the 1880s, she went undercover as a mentally ill patient in a psychiatric hospital for ten days, with the report being made public in a book called \"\"Ten Days in a Mad-House\"\". She was added to the National Women\\'s Hall of Fame in 1998.']\n",
      "\t205.038\t['Abbie Hoffman', 'Abbot Howard \"Abbie\" Hoffman (November 30, 1936 – April 12, 1989) was an American social and political activist.']\n",
      "CPU times: user 1.93 ms, sys: 8.62 ms, total: 10.6 ms\n",
      "Wall time: 10 ms\n"
     ]
    }
   ],
   "source": [
    "%%time\n",
    "search_raft_flat(query=\"Who was Grace Hopper?\")"
   ]
  },
  {
   "cell_type": "code",
   "execution_count": 10,
   "id": "b5694d00",
   "metadata": {},
   "outputs": [
    {
     "name": "stdout",
     "output_type": "stream",
     "text": [
      "Input question: Who was Alan Turing?\n",
      "Results (after 0.002 seconds):\n",
      "\t106.131\t['Alan Turing', 'Alan Mathison Turing OBE FRS (London, 23 June 1912 – Wilmslow, Cheshire, 7 June 1954) was an English mathematician and computer scientist. He was born in Maida Vale, London.']\n",
      "\t158.646\t['William Kahan', 'William Morton Kahan (born June 5, 1933) is a Canadian mathematician and computer scientist. He received the Turing Award in 1989 for \"\"his fundamental contributions to numerical analysis\".\" He was named an ACM Fellow in 1994, and added to the National Academy of Engineering in 2005.']\n",
      "\t165.094\t['Alan Turing', 'A brilliant mathematician and cryptographer Alan was to become the founder of modern-day computer science and artificial intelligence; designing a machine at Bletchley Park to break secret Enigma encrypted messages used by the Nazi German war machine to protect sensitive commercial, diplomatic and military communications during World War 2. Thus, Turing made the single biggest contribution to the Allied victory in the war against Nazi Germany, possibly saving the lives of an estimated 2 million people, through his effort in shortening World War II.']\n",
      "\t167.321\t['Rolf Noskwith', 'Rolf Noskwith (19 June 1919 – 3 January 2017) was a British businessman. During the Second World War, he worked under Alan Turing as a cryptographer at the British military base Bletchley Park in Milton Keynes, Buckinghamshire.']\n",
      "\t176.480\t['Marvin Minsky', \"Marvin Lee Minsky (August 9, 1927 – January 24, 2016) was an American cognitive scientist in the field of artificial intelligence (AI). He was the co-founder of the Massachusetts Institute of Technology's AI laboratory, and author of several texts on AI and philosophy. He won the Turing Award in 1969.\"]\n",
      "CPU times: user 11.5 ms, sys: 0 ns, total: 11.5 ms\n",
      "Wall time: 10.8 ms\n"
     ]
    }
   ],
   "source": [
    "%%time\n",
    "search_raft_flat(query=\"Who was Alan Turing?\")"
   ]
  },
  {
   "cell_type": "code",
   "execution_count": 11,
   "id": "fcfc3c5b",
   "metadata": {},
   "outputs": [
    {
     "name": "stdout",
     "output_type": "stream",
     "text": [
      "Input question: What is creating tides?\n",
      "Results (after 0.002 seconds):\n",
      "\t94.909\t['Tide', \"A tide is the periodic rising and falling of Earth's ocean surface caused mainly by the gravitational pull of the Moon acting on the oceans. Tides cause changes in the depth of marine and estuarine (river mouth) waters. Tides also make oscillating currents known as tidal streams (~'rip tides'). This means that being able to predict the tide is important for coastal navigation. The strip of seashore that is under water at high tide and exposed at low tide, called the intertidal zone, is an important ecological product of ocean tides.\"]\n",
      "\t159.539\t['Tidal energy', \"Many things affect tides. The pull of the Moon is the largest effect, and most of the energy comes from the slowing of the Earth's spin.\"]\n",
      "\t159.740\t['Storm surge', 'A storm surge is a sudden rise of water hitting areas close to the coast. Storm surges are usually created by a hurricane or other tropical cyclone. The surge happens because a storm has fast winds and low atmospheric pressure. Water is pushed on shore, and the water level rises. Strong storm surges can flood coastal towns and destroy homes. A storm surge is considered the deadliest part of a hurricane. They kill many people each year.']\n",
      "\t178.283\t['Sea', 'Wind blowing over the surface of a body of water forms waves. The friction between air and water caused by a gentle breeze on a pond causes ripples to form. A strong blow over the ocean causes larger waves as the moving air pushes against the raised ridges of water. The waves reach their greatest height when the rate at which they travel nearly matches the speed of the wind. The waves form at right angles to the direction from which the wind blows. In open water, if the wind continues to blow, as happens in the Roaring Forties in the southern hemisphere, long, organized masses of water called swell roll across the ocean. If the wind dies down, the wave formation is reduced but waves already formed continue to travel in their original direction until they meet land. Small waves form in small areas of water with islands and other landmasses but large waves form in open stretches of sea where the wind blows steadily and strongly. When waves meet other waves coming from different directions, interference between the two can produce broken, irregular seas.']\n",
      "\t181.498\t['Tidal force', 'Tidal force is caused by gravity and makes tides happen. This is because the gravitational field changes across the middle of a body (the diameter).']\n",
      "CPU times: user 10.2 ms, sys: 439 µs, total: 10.6 ms\n",
      "Wall time: 9.79 ms\n"
     ]
    }
   ],
   "source": [
    "%%time\n",
    "search_raft_flat(query = \"What is creating tides?\")"
   ]
  },
  {
   "cell_type": "markdown",
   "id": "4179dd0a",
   "metadata": {},
   "source": [
    "### IVF-PQ"
   ]
  },
  {
   "cell_type": "code",
   "execution_count": 12,
   "id": "0a21c0a9",
   "metadata": {},
   "outputs": [
    {
     "name": "stdout",
     "output_type": "stream",
     "text": [
      "CPU times: user 3.33 s, sys: 1.19 s, total: 4.52 s\n",
      "Wall time: 4.49 s\n"
     ]
    }
   ],
   "source": [
    "%%time\n",
    "params = ivf_pq.IndexParams(n_lists=150, pq_dim=96)\n",
    "pq_index = ivf_pq.build(params, corpus_embeddings)\n",
    "search_params = ivf_pq.SearchParams()\n",
    "\n",
    "def search_raft_pq(query, top_k = 5):\n",
    "    # Encode the query using the bi-encoder and find potentially relevant passages\n",
    "    question_embedding = bi_encoder.encode(query, convert_to_tensor=True)\n",
    "\n",
    "    hits = ivf_pq.search(search_params, pq_index, question_embedding[None], top_k)\n",
    "\n",
    "    # Output of top-k hits\n",
    "    print(\"Input question:\", query)\n",
    "    for k in range(top_k):\n",
    "        print(\"\\t{:.3f}\\t{}\".format(hits[0][0, k], passages[hits[1][0, k]]))"
   ]
  },
  {
   "cell_type": "markdown",
   "id": "b5fb33c7",
   "metadata": {},
   "source": [
    "For IVF-PQ we want to reduce the memory footprint while keeping a good accuracy."
   ]
  },
  {
   "cell_type": "code",
   "execution_count": 13,
   "id": "3dd5ed39",
   "metadata": {},
   "outputs": [
    {
     "name": "stdout",
     "output_type": "stream",
     "text": [
      "IVF-PQ memory footprint: 373.3 MB\n",
      "Original dataset: 1493.2 MB\n",
      "Memory saved: 75.0%\n"
     ]
    }
   ],
   "source": [
    "pq_index_mem = pq_index.pq_dim * pq_index.size * pq_index.pq_bits\n",
    "print(\"IVF-PQ memory footprint: {:.1f} MB\".format(pq_index_mem / 2**20))\n",
    "\n",
    "original_mem = corpus_embeddings.shape[0] * corpus_embeddings.shape[1] * 4\n",
    "print(\"Original dataset: {:.1f} MB\".format(original_mem / 2**20))\n",
    "\n",
    "print(\"Memory saved: {:.1f}%\".format(100 * (1 - pq_index_mem / original_mem)))"
   ]
  },
  {
   "cell_type": "code",
   "execution_count": 14,
   "id": "5c879226",
   "metadata": {},
   "outputs": [
    {
     "name": "stdout",
     "output_type": "stream",
     "text": [
      "Input question: Who was Grace Hopper?\n",
      "\t188.568\t['Leona Helmsley', 'Leona Helmsley (July 4, 1920 – August 20, 2007) was an American businesswoman. She was known for having a flamboyant personality. She had a reputation for tyrannical behavior; she was nicknamed the Queen of Mean.']\n",
      "\t194.847\t['Grace Hopper', 'Hopper was born in New York, USA. Hopper graduated from Vassar College in 1928 and Yale University in 1934 with a Ph.D degree in mathematics. She joined the US Navy during the World War II in 1943. She worked on computers in the Navy for 43 years. She then worked in other private industry companies after 1949. She retired from the Navy in 1986 and died on January 1, 1992.']\n",
      "\t204.002\t['Grace Hopper', 'Grace Murray Hopper (December 9 1906 – January 1 1992) was an American computer scientist and United States Navy officer.']\n",
      "\t206.905\t['Abbie Hoffman', 'Abbot Howard \"Abbie\" Hoffman (November 30, 1936 – April 12, 1989) was an American social and political activist.']\n",
      "\t207.403\t['Ida B. Wells', 'Ida Bell Wells-Barnett (July 16, 1862 – March 25, 1931), also known as Ida B. Wells, was an African-American journalist, suffragist and women\\'s rights advocate. She was born a slave in Holly Springs, Mississippi during the American Civil War. Wells grew up to become a teacher in Memphis, Tennessee. She became co-owner of a local newspaper \"The Free Speech and Headlight\". She wrote editorials using the pen name \"Iola\". Many of her editorials were about the problems of African-Americans in the era of Jim Crow laws. She became a full-time journalist after being dismissed from her teaching job. Wells was an early pioneer in the civil rights movement. In 1909, Wells was one of the founders of the National Association for the Advancement of Colored People (NAACP).']\n",
      "CPU times: user 9.2 ms, sys: 0 ns, total: 9.2 ms\n",
      "Wall time: 8.79 ms\n"
     ]
    }
   ],
   "source": [
    "%%time\n",
    "search_raft_pq(query=\"Who was Grace Hopper?\")"
   ]
  },
  {
   "cell_type": "code",
   "execution_count": 15,
   "id": "ed8f804e",
   "metadata": {},
   "outputs": [
    {
     "name": "stdout",
     "output_type": "stream",
     "text": [
      "Input question: Who was Alan Turing?\n",
      "\t135.342\t['Alan Turing', 'Alan Mathison Turing OBE FRS (London, 23 June 1912 – Wilmslow, Cheshire, 7 June 1954) was an English mathematician and computer scientist. He was born in Maida Vale, London.']\n",
      "\t165.409\t['William Kahan', 'William Morton Kahan (born June 5, 1933) is a Canadian mathematician and computer scientist. He received the Turing Award in 1989 for \"\"his fundamental contributions to numerical analysis\".\" He was named an ACM Fellow in 1994, and added to the National Academy of Engineering in 2005.']\n",
      "\t167.513\t['Rolf Noskwith', 'Rolf Noskwith (19 June 1919 – 3 January 2017) was a British businessman. During the Second World War, he worked under Alan Turing as a cryptographer at the British military base Bletchley Park in Milton Keynes, Buckinghamshire.']\n",
      "\t171.538\t['Alan Turing', 'A brilliant mathematician and cryptographer Alan was to become the founder of modern-day computer science and artificial intelligence; designing a machine at Bletchley Park to break secret Enigma encrypted messages used by the Nazi German war machine to protect sensitive commercial, diplomatic and military communications during World War 2. Thus, Turing made the single biggest contribution to the Allied victory in the war against Nazi Germany, possibly saving the lives of an estimated 2 million people, through his effort in shortening World War II.']\n",
      "\t180.292\t['Edsger W. Dijkstra', 'Edsger Wybe Dijkstra (May 11, 1930 – August 6, 2002; ) was a Dutch computer scientist. He received the 1972 Turing Award for fundamental contributions to developing programming languages, and was the Schlumberger Centennial Chair of Computer Sciences at The University of Texas at Austin from 1984 until 2000.']\n",
      "CPU times: user 10.3 ms, sys: 0 ns, total: 10.3 ms\n",
      "Wall time: 9.57 ms\n"
     ]
    }
   ],
   "source": [
    "%%time\n",
    "search_raft_pq(query=\"Who was Alan Turing?\")"
   ]
  },
  {
   "cell_type": "code",
   "execution_count": 16,
   "id": "710c4ea5",
   "metadata": {},
   "outputs": [
    {
     "name": "stdout",
     "output_type": "stream",
     "text": [
      "Input question: What is creating tides?\n",
      "\t127.162\t['Tide', \"A tide is the periodic rising and falling of Earth's ocean surface caused mainly by the gravitational pull of the Moon acting on the oceans. Tides cause changes in the depth of marine and estuarine (river mouth) waters. Tides also make oscillating currents known as tidal streams (~'rip tides'). This means that being able to predict the tide is important for coastal navigation. The strip of seashore that is under water at high tide and exposed at low tide, called the intertidal zone, is an important ecological product of ocean tides.\"]\n",
      "\t159.660\t['Storm surge', 'A storm surge is a sudden rise of water hitting areas close to the coast. Storm surges are usually created by a hurricane or other tropical cyclone. The surge happens because a storm has fast winds and low atmospheric pressure. Water is pushed on shore, and the water level rises. Strong storm surges can flood coastal towns and destroy homes. A storm surge is considered the deadliest part of a hurricane. They kill many people each year.']\n",
      "\t173.381\t['Tidal energy', \"Many things affect tides. The pull of the Moon is the largest effect, and most of the energy comes from the slowing of the Earth's spin.\"]\n",
      "\t183.480\t['Tsunami', \"A tsunami is a natural disaster which is a series of fast-moving waves in the ocean caused by powerful earthquakes, volcanic eruptions, landslides, or simply an asteroid or a meteor crash inside the ocean. A tsunami has a very long wavelength. It can be hundreds of kilometers long. Usually, a tsunami starts suddenly. The waves travel at a great speed across an ocean with little energy loss. They can remove sand from beaches, destroy trees, toss and drag vehicles, houses and even destroy whole towns. Tsunamis can even be caused when a meteorite strikes the earth's surface, though it is very rare. A tsunami normally occurs in the Pacific Ocean, especially in what is called the ring of fire, but can occur in any large body of water.\"]\n",
      "\t185.260\t['Ocean surface wave', 'Ocean surface waves are surface waves that occur in the upper layer of the ocean. They usually result from wind. Some are made by geologic effects like earthquakes or vulcanicity and may travel thousands of miles before striking land. They range in size from small ripples to huge tsunamis. There is little actual forward motion of individual water particles in an unbroken wave, despite the large amount of energy and momentum it may carry forward. When a wave hits shallow water, it \"breaks\" because the bottom moves more slowly than the top.']\n",
      "CPU times: user 5.3 ms, sys: 4.19 ms, total: 9.5 ms\n",
      "Wall time: 8.9 ms\n"
     ]
    }
   ],
   "source": [
    "%%time\n",
    "search_raft_pq(query = \"What is creating tides?\")"
   ]
  },
  {
   "cell_type": "markdown",
   "id": "a59d7b32-0832-4c3a-864e-aeb2e6e7fe1f",
   "metadata": {},
   "source": [
    "### CAGRA"
   ]
  },
  {
   "cell_type": "code",
   "execution_count": 17,
   "id": "53e731dc",
   "metadata": {},
   "outputs": [
    {
     "name": "stdout",
     "output_type": "stream",
     "text": [
      "CPU times: user 3.32 s, sys: 1.23 s, total: 4.54 s\n",
      "Wall time: 4.51 s\n"
     ]
    }
   ],
   "source": [
    "%%time\n",
    "params = ivf_pq.IndexParams(n_lists=150, pq_dim=96)\n",
    "pq_index = ivf_pq.build(params, corpus_embeddings)\n",
    "search_params = ivf_pq.SearchParams()\n",
    "\n",
    "def search_raft_pq(query, top_k = 5):\n",
    "    # Encode the query using the bi-encoder and find potentially relevant passages\n",
    "    question_embedding = bi_encoder.encode(query, convert_to_tensor=True)\n",
    "\n",
    "    hits = ivf_pq.search(search_params, pq_index, question_embedding[None], top_k)\n",
    "\n",
    "    # Output of top-k hits\n",
    "    print(\"Input question:\", query)\n",
    "    for k in range(top_k):\n",
    "        print(\"\\t{:.3f}\\t{}\".format(hits[0][0, k], passages[hits[1][0, k]]))"
   ]
  },
  {
   "cell_type": "markdown",
   "id": "843b0553",
   "metadata": {},
   "source": [
    "For IVF-PQ we want to reduce the memory footprint while keeping a good accuracy."
   ]
  },
  {
   "cell_type": "code",
   "execution_count": 18,
   "id": "9b81ac90",
   "metadata": {},
   "outputs": [
    {
     "name": "stdout",
     "output_type": "stream",
     "text": [
      "IVF-PQ memory footprint: 373.3 MB\n",
      "Original dataset: 1493.2 MB\n",
      "Memory saved: 75.0%\n"
     ]
    }
   ],
   "source": [
    "pq_index_mem = pq_index.pq_dim * pq_index.size * pq_index.pq_bits\n",
    "print(\"IVF-PQ memory footprint: {:.1f} MB\".format(pq_index_mem / 2**20))\n",
    "\n",
    "original_mem = corpus_embeddings.shape[0] * corpus_embeddings.shape[1] * 4\n",
    "print(\"Original dataset: {:.1f} MB\".format(original_mem / 2**20))\n",
    "\n",
    "print(\"Memory saved: {:.1f}%\".format(100 * (1 - pq_index_mem / original_mem)))"
   ]
  },
  {
   "cell_type": "code",
   "execution_count": 19,
   "id": "f94de231",
   "metadata": {},
   "outputs": [
    {
     "name": "stdout",
     "output_type": "stream",
     "text": [
      "Input question: Who was Grace Hopper?\n",
      "\t185.808\t['Grace Hopper', 'Hopper was born in New York, USA. Hopper graduated from Vassar College in 1928 and Yale University in 1934 with a Ph.D degree in mathematics. She joined the US Navy during the World War II in 1943. She worked on computers in the Navy for 43 years. She then worked in other private industry companies after 1949. She retired from the Navy in 1986 and died on January 1, 1992.']\n",
      "\t190.110\t['Leona Helmsley', 'Leona Helmsley (July 4, 1920 – August 20, 2007) was an American businesswoman. She was known for having a flamboyant personality. She had a reputation for tyrannical behavior; she was nicknamed the Queen of Mean.']\n",
      "\t199.969\t['Grace Hopper', 'Grace Murray Hopper (December 9 1906 – January 1 1992) was an American computer scientist and United States Navy officer.']\n",
      "\t205.086\t['Abbie Hoffman', 'Abbot Howard \"Abbie\" Hoffman (November 30, 1936 – April 12, 1989) was an American social and political activist.']\n",
      "\t207.379\t['Nellie Bly', 'Elizabeth Cochrane Seaman (born Elizabeth Jane Cochran; May 5, 1864 – January 27, 1922), better known by her pen name Nellie Bly, was an American journalist, novelist and inventor. She was a newspaper reporter, who worked at various jobs for exposing poor working conditions. Nellie Bly, also, fought for women\\'s right and was known for investigative reporting. She best known for her record-breaking trip around the world in 72 days, inspired by the adventure novel \"Around the World in Eighty Days\" by Jules Verne. In the 1880s, she went undercover as a mentally ill patient in a psychiatric hospital for ten days, with the report being made public in a book called \"\"Ten Days in a Mad-House\"\". She was added to the National Women\\'s Hall of Fame in 1998.']\n",
      "CPU times: user 6.1 ms, sys: 3.48 ms, total: 9.57 ms\n",
      "Wall time: 9.11 ms\n"
     ]
    }
   ],
   "source": [
    "%%time\n",
    "search_raft_pq(query=\"Who was Grace Hopper?\")"
   ]
  },
  {
   "cell_type": "code",
   "execution_count": 20,
   "id": "0869fed2",
   "metadata": {},
   "outputs": [
    {
     "name": "stdout",
     "output_type": "stream",
     "text": [
      "Input question: Who was Alan Turing?\n",
      "\t131.158\t['Alan Turing', 'Alan Mathison Turing OBE FRS (London, 23 June 1912 – Wilmslow, Cheshire, 7 June 1954) was an English mathematician and computer scientist. He was born in Maida Vale, London.']\n",
      "\t162.830\t['William Kahan', 'William Morton Kahan (born June 5, 1933) is a Canadian mathematician and computer scientist. He received the Turing Award in 1989 for \"\"his fundamental contributions to numerical analysis\".\" He was named an ACM Fellow in 1994, and added to the National Academy of Engineering in 2005.']\n",
      "\t172.157\t['Alan Turing', 'A brilliant mathematician and cryptographer Alan was to become the founder of modern-day computer science and artificial intelligence; designing a machine at Bletchley Park to break secret Enigma encrypted messages used by the Nazi German war machine to protect sensitive commercial, diplomatic and military communications during World War 2. Thus, Turing made the single biggest contribution to the Allied victory in the war against Nazi Germany, possibly saving the lives of an estimated 2 million people, through his effort in shortening World War II.']\n",
      "\t173.819\t['Rolf Noskwith', 'Rolf Noskwith (19 June 1919 – 3 January 2017) was a British businessman. During the Second World War, he worked under Alan Turing as a cryptographer at the British military base Bletchley Park in Milton Keynes, Buckinghamshire.']\n",
      "\t178.860\t['Marvin Minsky', \"Marvin Lee Minsky (August 9, 1927 – January 24, 2016) was an American cognitive scientist in the field of artificial intelligence (AI). He was the co-founder of the Massachusetts Institute of Technology's AI laboratory, and author of several texts on AI and philosophy. He won the Turing Award in 1969.\"]\n",
      "CPU times: user 7 ms, sys: 3.73 ms, total: 10.7 ms\n",
      "Wall time: 9.8 ms\n"
     ]
    }
   ],
   "source": [
    "%%time\n",
    "search_raft_pq(query=\"Who was Alan Turing?\")"
   ]
  },
  {
   "cell_type": "code",
   "execution_count": 21,
   "metadata": {},
   "outputs": [
    {
     "name": "stdout",
     "output_type": "stream",
     "text": [
      "Input question: What is creating tides?\n",
      "\t130.882\t['Tide', \"A tide is the periodic rising and falling of Earth's ocean surface caused mainly by the gravitational pull of the Moon acting on the oceans. Tides cause changes in the depth of marine and estuarine (river mouth) waters. Tides also make oscillating currents known as tidal streams (~'rip tides'). This means that being able to predict the tide is important for coastal navigation. The strip of seashore that is under water at high tide and exposed at low tide, called the intertidal zone, is an important ecological product of ocean tides.\"]\n",
      "\t172.524\t['Storm surge', 'A storm surge is a sudden rise of water hitting areas close to the coast. Storm surges are usually created by a hurricane or other tropical cyclone. The surge happens because a storm has fast winds and low atmospheric pressure. Water is pushed on shore, and the water level rises. Strong storm surges can flood coastal towns and destroy homes. A storm surge is considered the deadliest part of a hurricane. They kill many people each year.']\n",
      "\t186.439\t['Tsunami', \"A tsunami is a natural disaster which is a series of fast-moving waves in the ocean caused by powerful earthquakes, volcanic eruptions, landslides, or simply an asteroid or a meteor crash inside the ocean. A tsunami has a very long wavelength. It can be hundreds of kilometers long. Usually, a tsunami starts suddenly. The waves travel at a great speed across an ocean with little energy loss. They can remove sand from beaches, destroy trees, toss and drag vehicles, houses and even destroy whole towns. Tsunamis can even be caused when a meteorite strikes the earth's surface, though it is very rare. A tsunami normally occurs in the Pacific Ocean, especially in what is called the ring of fire, but can occur in any large body of water.\"]\n",
      "\t188.696\t['Ocean surface wave', 'Ocean surface waves are surface waves that occur in the upper layer of the ocean. They usually result from wind. Some are made by geologic effects like earthquakes or vulcanicity and may travel thousands of miles before striking land. They range in size from small ripples to huge tsunamis. There is little actual forward motion of individual water particles in an unbroken wave, despite the large amount of energy and momentum it may carry forward. When a wave hits shallow water, it \"breaks\" because the bottom moves more slowly than the top.']\n",
      "\t197.446\t['Earthquake', \"An earthquake under the ocean can cause a tsunami, which can cause just as much destruction as the earthquake itself in mountainous areas. Earthquakes can also cause landslides. Earthquakes are part of the Earth's natural rock cycle.\"]\n",
      "CPU times: user 6.39 ms, sys: 3.56 ms, total: 9.95 ms\n",
      "Wall time: 9.29 ms\n"
     ]
    }
   ],
   "source": [
    "%%time\n",
    "search_raft_pq(query = \"What is creating tides?\")"
   ]
  },
  {
   "cell_type": "code",
   "execution_count": 22,
   "id": "50df1f43-c580-4019-949a-06bdc7185536",
   "metadata": {},
   "outputs": [],
   "source": [
    "from pylibraft.neighbors import cagra"
   ]
  },
  {
   "cell_type": "code",
   "execution_count": 23,
   "id": "091cde52-4652-4230-af2b-75c35357f833",
   "metadata": {},
   "outputs": [],
   "source": [
    "params = cagra.IndexParams(intermediate_graph_degree=128, graph_degree=64, build_algo=\"nn_descent\")\n",
    "cagra_index = cagra.build(params, corpus_embeddings)\n",
    "search_params = cagra.SearchParams()"
   ]
  },
  {
   "cell_type": "code",
   "execution_count": 24,
   "id": "df229e21-f6b6-4d6c-ad54-2724f8738934",
   "metadata": {},
   "outputs": [],
   "source": [
    "def search_raft_cagra(query, top_k = 5):\n",
    "    # Encode the query using the bi-encoder and find potentially relevant passages\n",
    "    question_embedding = bi_encoder.encode(query, convert_to_tensor=True)\n",
    "\n",
    "    hits = cagra.search(search_params, cagra_index, question_embedding[None], top_k)\n",
    "\n",
    "    # Output of top-k hits\n",
    "    print(\"Input question:\", query)\n",
    "    for k in range(top_k):\n",
    "        print(\"\\t{:.3f}\\t{}\".format(hits[0][0, k], passages[hits[1][0, k]]))"
   ]
  },
  {
   "cell_type": "code",
   "execution_count": 25,
   "id": "b5e862fd-b7e5-4423-8fbf-36918f02c8f3",
   "metadata": {},
   "outputs": [
    {
     "name": "stdout",
     "output_type": "stream",
     "text": [
      "CPU times: user 8 µs, sys: 2 µs, total: 10 µs\n",
      "Wall time: 5.01 µs\n",
      "Input question: Who was Grace Hopper?\n",
      "\t181.649\t['Grace Hopper', 'Hopper was born in New York, USA. Hopper graduated from Vassar College in 1928 and Yale University in 1934 with a Ph.D degree in mathematics. She joined the US Navy during the World War II in 1943. She worked on computers in the Navy for 43 years. She then worked in other private industry companies after 1949. She retired from the Navy in 1986 and died on January 1, 1992.']\n",
      "\t192.946\t['Leona Helmsley', 'Leona Helmsley (July 4, 1920 – August 20, 2007) was an American businesswoman. She was known for having a flamboyant personality. She had a reputation for tyrannical behavior; she was nicknamed the Queen of Mean.']\n",
      "\t194.951\t['Grace Hopper', 'Grace Murray Hopper (December 9 1906 – January 1 1992) was an American computer scientist and United States Navy officer.']\n",
      "\t202.192\t['Nellie Bly', 'Elizabeth Cochrane Seaman (born Elizabeth Jane Cochran; May 5, 1864 – January 27, 1922), better known by her pen name Nellie Bly, was an American journalist, novelist and inventor. She was a newspaper reporter, who worked at various jobs for exposing poor working conditions. Nellie Bly, also, fought for women\\'s right and was known for investigative reporting. She best known for her record-breaking trip around the world in 72 days, inspired by the adventure novel \"Around the World in Eighty Days\" by Jules Verne. In the 1880s, she went undercover as a mentally ill patient in a psychiatric hospital for ten days, with the report being made public in a book called \"\"Ten Days in a Mad-House\"\". She was added to the National Women\\'s Hall of Fame in 1998.']\n",
      "\t205.038\t['Abbie Hoffman', 'Abbot Howard \"Abbie\" Hoffman (November 30, 1936 – April 12, 1989) was an American social and political activist.']\n"
     ]
    }
   ],
   "source": [
    "%time \n",
    "search_raft_cagra(query=\"Who was Grace Hopper?\")"
   ]
  }
 ],
 "metadata": {
  "kernelspec": {
   "display_name": "Python 3 (ipykernel)",
   "language": "python",
   "name": "python3"
  },
  "language_info": {
   "codemirror_mode": {
    "name": "ipython",
    "version": 3
   },
   "file_extension": ".py",
   "mimetype": "text/x-python",
   "name": "python",
   "nbconvert_exporter": "python",
   "pygments_lexer": "ipython3",
   "version": "3.10.13"
  }
 },
 "nbformat": 4,
 "nbformat_minor": 5
}
