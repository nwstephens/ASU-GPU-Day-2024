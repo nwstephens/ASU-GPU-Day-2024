{
 "cells": [
  {
   "cell_type": "markdown",
   "metadata": {},
   "source": [
    "# CAGRA Example"
   ]
  },
  {
   "cell_type": "markdown",
   "metadata": {},
   "source": [
    "WANNING: Running this example code requires the deployment of a Milvus instance that attached with GPU devices."
   ]
  },
  {
   "cell_type": "code",
   "execution_count": null,
   "metadata": {},
   "outputs": [],
   "source": [
    "import numpy as np\n",
    "import time \n",
    "import random\n",
    "\n",
    "from pymilvus import (\n",
    "    connections,\n",
    "    list_collections,\n",
    "    FieldSchema, CollectionSchema, DataType,\n",
    "    Collection,\n",
    ")\n",
    "\n",
    "dim = 128\n",
    "nb = 10000\n",
    "nq = 10\n",
    "collection_name = \"GPU_CAGRA_test\""
   ]
  },
  {
   "cell_type": "markdown",
   "metadata": {},
   "source": [
    "## Configure milvus hostname and port"
   ]
  },
  {
   "cell_type": "code",
   "execution_count": null,
   "metadata": {},
   "outputs": [],
   "source": [
    "print(f\"\\nCreate connection...\")\n",
    "connections.connect(host=\"localhost\", port=19530)"
   ]
  },
  {
   "cell_type": "markdown",
   "metadata": {},
   "source": [
    "## List all collection names"
   ]
  },
  {
   "cell_type": "code",
   "execution_count": null,
   "metadata": {},
   "outputs": [],
   "source": [
    "print(f\"\\nList collections...\")\n",
    "collection_list = list_collections()\n",
    "print(list_collections())\n",
    "\n",
    "if(collection_list.count(collection_name)):\n",
    "    print(collection_name, \" exist, and drop it\")\n",
    "    collection = Collection(collection_name)\n",
    "    collection.drop()\n",
    "    print(\"drop\")\n",
    "\n",
    "field1 = FieldSchema(name=\"id\", dtype=DataType.INT64, description=\"int64\", is_primary=True)\n",
    "field2 = FieldSchema(name = \"vec\", dtype = DataType.FLOAT_VECTOR, description = \"float vector\", dim = dim, is_primary = False)\n",
    "schema = CollectionSchema(fields = [field1, field2], description = \"sift decription\")\n",
    "collection = Collection(name = collection_name, data = None, schema = schema, shards_num = 2)\n",
    "\n",
    "print(list_collections())\n",
    "\n",
    "print(f\"\\nList partitions...\")\n",
    "print(collection.partitions)"
   ]
  },
  {
   "cell_type": "markdown",
   "metadata": {},
   "source": [
    "## Begin insert"
   ]
  },
  {
   "cell_type": "code",
   "execution_count": null,
   "metadata": {},
   "outputs": [],
   "source": [
    "print(\"begin insert...\")\n",
    "rng = np.random.default_rng(seed=19530)\n",
    "data = rng.random((nb, dim))\n",
    "counter = 0\n",
    "block_num = 100\n",
    "block_size = int(data.shape[0]/block_num)\n",
    "start = time.time()\n",
    "for t in range(block_num):\n",
    "    entities = [\n",
    "            [i for i in range(counter, counter + block_size)],\n",
    "            # [vectors[i] for i in range(counter, counter + block_size)]\n",
    "            [vec for vec in data[counter: counter + block_size]]\n",
    "            ]\n",
    "    insert_result =  collection.insert(entities)\n",
    "    counter = counter + block_size\n",
    "print (\"end of insert, cost: \", time.time()-start)\n",
    "\n",
    "collection.flush()\n",
    "print(collection.num_entities)\n"
   ]
  },
  {
   "cell_type": "markdown",
   "metadata": {},
   "source": [
    "## Create index"
   ]
  },
  {
   "cell_type": "markdown",
   "metadata": {},
   "source": [
    "print(f\"\\nCreate index...\")\n",
    "\n",
    "collection.create_index(field_name=\"vec\",\n",
    "        index_params={'index_type': 'GPU_CAGRA',  \n",
    "            'metric_type': 'L2',\n",
    "            'params': {\n",
    "                'intermediate_graph_degree':64,\n",
    "                'graph_degree': 32,\n",
    "                }})\n",
    "print(f\"\\nCreated index done.\")\n"
   ]
  },
  {
   "cell_type": "markdown",
   "metadata": {},
   "source": [
    "## Load"
   ]
  },
  {
   "cell_type": "code",
   "execution_count": null,
   "metadata": {},
   "outputs": [],
   "source": [
    "print(f\"\\nLoad...\")\n",
    "collection.load()\n",
    "print(f\"\\nLoaded\")"
   ]
  },
  {
   "cell_type": "markdown",
   "metadata": {},
   "source": [
    "## Search"
   ]
  },
  {
   "cell_type": "code",
   "execution_count": null,
   "metadata": {},
   "outputs": [],
   "source": [
    "print(f\"\\nSearch...\")\n",
    "res = collection.search([ vec for vec in data[0:1]],\n",
    "                        \"vec\", \n",
    "                            {\"metric_type\": \"L2\",\n",
    "                              \"params\": {\n",
    "                                   \"search_width\":100},\n",
    "                                   }, \n",
    "                                limit=100)\n",
    "print(\"run result: \", res[0].ids)\n",
    "collection.drop()"
   ]
  }
 ],
 "metadata": {
  "language_info": {
   "name": "python"
  }
 },
 "nbformat": 4,
 "nbformat_minor": 2
}
