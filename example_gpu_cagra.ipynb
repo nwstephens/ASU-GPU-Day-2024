{
 "cells": [
  {
   "cell_type": "markdown",
   "metadata": {},
   "source": [
    "# CAGRA Example"
   ]
  },
  {
   "cell_type": "markdown",
   "metadata": {},
   "source": [
    "This notebook is adapted from the [Milvus 2.4 examples](https://github.com/milvus-io/pymilvus/blob/2.4/examples/example_gpu_cagra.py). Running this example code requires the deployment of a Milvus instance that attached with GPU devices. See `milvus-setup.ipynb` for starting Milvus 2.4 with GPU support in stand-alone mode."
   ]
  },
  {
   "cell_type": "code",
   "execution_count": 1,
   "metadata": {},
   "outputs": [],
   "source": [
    "import numpy as np\n",
    "import time \n",
    "import random\n",
    "\n",
    "from pymilvus import (\n",
    "    connections,\n",
    "    list_collections,\n",
    "    FieldSchema, CollectionSchema, DataType,\n",
    "    Collection,\n",
    ")\n",
    "\n",
    "dim = 128\n",
    "nb = 10000\n",
    "collection_name = \"GPU_CAGRA_test\""
   ]
  },
  {
   "cell_type": "markdown",
   "metadata": {},
   "source": [
    "## Create Connection"
   ]
  },
  {
   "cell_type": "code",
   "execution_count": 2,
   "metadata": {},
   "outputs": [],
   "source": [
    "connections.connect(host=\"localhost\", port=19530)"
   ]
  },
  {
   "cell_type": "markdown",
   "metadata": {},
   "source": [
    "## List all collection names"
   ]
  },
  {
   "cell_type": "code",
   "execution_count": 3,
   "metadata": {},
   "outputs": [
    {
     "name": "stdout",
     "output_type": "stream",
     "text": [
      "['VectorDBBenchCollection', 'GPU_CAGRA_test']\n",
      "GPU_CAGRA_test  exist, and drop it\n",
      "drop\n",
      "['VectorDBBenchCollection', 'GPU_CAGRA_test']\n",
      "[{\"name\":\"_default\",\"collection_name\":\"GPU_CAGRA_test\",\"description\":\"\"}]\n"
     ]
    }
   ],
   "source": [
    "collection_list = list_collections()\n",
    "print(list_collections())\n",
    "\n",
    "if(collection_list.count(collection_name)):\n",
    "    print(collection_name, \" exist, and drop it\")\n",
    "    collection = Collection(collection_name)\n",
    "    collection.drop()\n",
    "    print(\"drop\")\n",
    "\n",
    "field1 = FieldSchema(name=\"id\", dtype=DataType.INT64, description=\"int64\", is_primary=True)\n",
    "field2 = FieldSchema(name = \"vec\", dtype = DataType.FLOAT_VECTOR, description = \"float vector\", dim = dim, is_primary = False)\n",
    "schema = CollectionSchema(fields = [field1, field2], description = \"sift decription\")\n",
    "collection = Collection(name = collection_name, data = None, schema = schema, shards_num = 2)\n",
    "\n",
    "print(list_collections())\n",
    "print(collection.partitions)"
   ]
  },
  {
   "cell_type": "markdown",
   "metadata": {},
   "source": [
    "## Begin insert"
   ]
  },
  {
   "cell_type": "code",
   "execution_count": 4,
   "metadata": {},
   "outputs": [
    {
     "name": "stdout",
     "output_type": "stream",
     "text": [
      "end of insert, cost:  0.670280933380127\n"
     ]
    }
   ],
   "source": [
    "rng = np.random.default_rng(seed=19530)\n",
    "data = rng.random((nb, dim))\n",
    "counter = 0\n",
    "block_num = 100\n",
    "block_size = int(data.shape[0]/block_num)\n",
    "\n",
    "start = time.time()\n",
    "for t in range(block_num):\n",
    "    entities = [\n",
    "            [i for i in range(counter, counter + block_size)],\n",
    "            # [vectors[i] for i in range(counter, counter + block_size)]\n",
    "            [vec for vec in data[counter: counter + block_size]]\n",
    "            ]\n",
    "    insert_result =  collection.insert(entities)\n",
    "    counter = counter + block_size\n",
    "print (\"end of insert, cost: \", time.time()-start)"
   ]
  },
  {
   "cell_type": "code",
   "execution_count": 5,
   "metadata": {},
   "outputs": [
    {
     "name": "stdout",
     "output_type": "stream",
     "text": [
      "10000\n"
     ]
    }
   ],
   "source": [
    "collection.flush()\n",
    "print(collection.num_entities)"
   ]
  },
  {
   "cell_type": "markdown",
   "metadata": {},
   "source": [
    "## Create index"
   ]
  },
  {
   "cell_type": "code",
   "execution_count": 6,
   "metadata": {},
   "outputs": [
    {
     "data": {
      "text/plain": [
       "Status(code=0, message=)"
      ]
     },
     "execution_count": 6,
     "metadata": {},
     "output_type": "execute_result"
    }
   ],
   "source": [
    "collection.create_index(field_name=\"vec\",\n",
    "        index_params={'index_type': 'GPU_CAGRA',  \n",
    "            'metric_type': 'L2',\n",
    "            'params': {\n",
    "                'intermediate_graph_degree':64,\n",
    "                'graph_degree': 32,\n",
    "                'build_algo': 'NN_DESCENT'\n",
    "                }})"
   ]
  },
  {
   "cell_type": "markdown",
   "metadata": {},
   "source": [
    "## Load Data"
   ]
  },
  {
   "cell_type": "code",
   "execution_count": 7,
   "metadata": {},
   "outputs": [],
   "source": [
    "collection.load()"
   ]
  },
  {
   "cell_type": "markdown",
   "metadata": {},
   "source": [
    "## Search"
   ]
  },
  {
   "cell_type": "code",
   "execution_count": 8,
   "metadata": {},
   "outputs": [
    {
     "name": "stdout",
     "output_type": "stream",
     "text": [
      "\n",
      "Search...\n",
      "run result:  [0, 497, 7194, 5511, 8201, 8728, 1564, 5025, 266, 2660, 8890, 486, 3486, 6512, 6494, 3289, 8658, 9383, 2478, 4640, 1123, 9216, 1263, 7240, 190, 6387, 6289, 5156, 6654, 9823, 2535, 2350, 9205, 7729, 1091, 898, 3334, 9982, 2183, 7434, 996, 8485, 8011, 3150, 6245, 3215, 1147, 9734, 500, 9232, 5129, 1054, 415, 554, 9012, 7653, 4678, 8562, 9055, 8155, 479, 3781, 6807, 6047, 7975, 7623, 9144, 807, 3186, 6453, 875, 4736, 275, 1977, 3147, 1769, 8654, 146, 1614, 9918, 8608, 334, 2894, 2697, 7928, 4683, 4639, 8188, 6071, 8126, 9800, 5547, 1659, 1974, 9646, 4382, 4805, 5086, 3545, 4987]\n"
     ]
    }
   ],
   "source": [
    "print(f\"\\nSearch...\")\n",
    "res = collection.search([vec for vec in data[0:1]],\n",
    "                        \"vec\", \n",
    "                            {\"metric_type\": \"L2\",\n",
    "                              \"params\": {\n",
    "                                   \"search_width\":100},\n",
    "                                   }, \n",
    "                                limit=100)\n",
    "print(\"run result: \", res[0].ids)"
   ]
  },
  {
   "cell_type": "code",
   "execution_count": 9,
   "metadata": {},
   "outputs": [],
   "source": [
    "collection.drop()"
   ]
  }
 ],
 "metadata": {
  "kernelspec": {
   "display_name": "asu",
   "language": "python",
   "name": "python3"
  },
  "language_info": {
   "codemirror_mode": {
    "name": "ipython",
    "version": 3
   },
   "file_extension": ".py",
   "mimetype": "text/x-python",
   "name": "python",
   "nbconvert_exporter": "python",
   "pygments_lexer": "ipython3",
   "version": "3.10.13"
  }
 },
 "nbformat": 4,
 "nbformat_minor": 2
}
