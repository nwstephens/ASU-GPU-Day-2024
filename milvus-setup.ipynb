{
 "cells": [
  {
   "cell_type": "markdown",
   "metadata": {},
   "source": [
    "# Use bulkInsert to test GPU index\n",
    "\n",
    "These instructions are adpated from [Zilliz](https://zilliverse.feishu.cn/wiki/ZWtMw4Lo3iDIvqkXjB0cM4ISnUW) wiki instructions."
   ]
  },
  {
   "cell_type": "markdown",
   "metadata": {},
   "source": [
    "## Env preparation\n",
    "\n",
    "1. Docker installation: https://docs.docker.com/engine/install/ubuntu/\n",
    "2. Install nvidia-docker2:"
   ]
  },
  {
   "cell_type": "code",
   "execution_count": null,
   "metadata": {
    "vscode": {
     "languageId": "shellscript"
    }
   },
   "outputs": [],
   "source": [
    "curl -s -L https://nvidia.github.io/nvidia-docker/gpgkey | sudo apt-key add -\n",
    "distribution=$(. /etc/os-release;echo $ID$VERSION_ID)\n",
    "curl -s -L https://nvidia.github.io/nvidia-docker/$distribution/nvidia-docker.list | sudo tee /etc/apt/sources.list.d/nvidia-docker.list\n",
    "sudo apt-get update\n",
    "sudo apt-get install nvidia-docker2\n",
    "sudo systemctl restart docker.service"
   ]
  },
  {
   "cell_type": "markdown",
   "metadata": {},
   "source": [
    "3. Install NVIDIA driver"
   ]
  },
  {
   "cell_type": "code",
   "execution_count": null,
   "metadata": {
    "vscode": {
     "languageId": "shellscript"
    }
   },
   "outputs": [],
   "source": [
    "sudo apt install --no-install-recommends  nvidia-headless-535 nvidia-utils-535"
   ]
  },
  {
   "cell_type": "markdown",
   "metadata": {},
   "source": [
    "4. (Optional) mount a high performance disk for test. We need to ensure all following operations are in a high performance disk. For an AWS host, we need to manually mount the NVMe SSD (For example, g4dn)."
   ]
  },
  {
   "cell_type": "code",
   "execution_count": null,
   "metadata": {
    "vscode": {
     "languageId": "shellscript"
    }
   },
   "outputs": [],
   "source": [
    "lsblk # see device path\n",
    "sudo mkfs -t ext4 /dev/nvme1n1\n",
    "sudo mkdir /data\n",
    "sudo mount /dev/nvme1n1 /data\n",
    "sudo -i blkid # get /dev/nvme1n1 UUID, e.g. dd04113f-deb6-42b0-a021-03110c119295 \n",
    "sudo vi /etc/fstab # add to the tail: UUID=<UUID get from previous cmd> /data ext4 defaults 1 2\n",
    "cd /data"
   ]
  },
  {
   "cell_type": "markdown",
   "metadata": {},
   "source": [
    "## Download milvus image"
   ]
  },
  {
   "cell_type": "code",
   "execution_count": null,
   "metadata": {
    "vscode": {
     "languageId": "shellscript"
    }
   },
   "outputs": [],
   "source": [
    "sudo docker pull milvusdb/milvus:v2.4.0-rc.1"
   ]
  },
  {
   "cell_type": "markdown",
   "metadata": {},
   "source": [
    "## Use docker compose to start the milvus service "
   ]
  },
  {
   "cell_type": "markdown",
   "metadata": {},
   "source": [
    "1. Save the following file as docker-compose.yml."
   ]
  },
  {
   "cell_type": "raw",
   "metadata": {},
   "source": [
    "version: '3.5'\n",
    "\n",
    "services:\n",
    "  etcd:\n",
    "    container_name: milvus-etcd\n",
    "    image: quay.io/coreos/etcd:v3.5.5\n",
    "    environment:\n",
    "      - ETCD_AUTO_COMPACTION_MODE=revision\n",
    "      - ETCD_AUTO_COMPACTION_RETENTION=1000\n",
    "      - ETCD_QUOTA_BACKEND_BYTES=4294967296\n",
    "      - ETCD_SNAPSHOT_COUNT=50000\n",
    "    volumes:\n",
    "      - ${DOCKER_VOLUME_DIRECTORY:-.}/volumes/etcd:/etcd\n",
    "    command: etcd -advertise-client-urls=http://127.0.0.1:2379 -listen-client-urls http://0.0.0.0:2379 --data-dir /etcd\n",
    "    healthcheck:\n",
    "      test: [\"CMD\", \"etcdctl\", \"endpoint\", \"health\"]\n",
    "\n",
    "  minio:\n",
    "    container_name: milvus-minio\n",
    "    image: minio/minio:RELEASE.2023-03-20T20-16-18Z\n",
    "    environment:\n",
    "      MINIO_ACCESS_KEY: minioadmin\n",
    "      MINIO_SECRET_KEY: minioadmin\n",
    "    ports:\n",
    "      - \"9001:9001\"\n",
    "      - \"9000:9000\"\n",
    "    volumes:\n",
    "      - ${DOCKER_VOLUME_DIRECTORY:-.}/volumes/minio:/minio_data\n",
    "    command: minio server /minio_data --console-address \":9001\"\n",
    "    healthcheck:\n",
    "      test: [\"CMD\", \"curl\", \"-f\", \"http://localhost:9000/minio/health/live\"]\n",
    "      interval: 30s\n",
    "      timeout: 20s\n",
    "      retries: 3\n",
    "\n",
    "  standalone:\n",
    "    container_name: milvus-standalone\n",
    "    image: milvusdb/milvus:v2.4.0.1-gpu-beta\n",
    "    command: [\"milvus\", \"run\", \"standalone\"]\n",
    "    environment:\n",
    "      ETCD_ENDPOINTS: etcd:2379\n",
    "      MINIO_ADDRESS: minio:9000\n",
    "    volumes:\n",
    "      - ${DOCKER_VOLUME_DIRECTORY:-.}/volumes/milvus:/var/lib/milvus\n",
    "    ports:\n",
    "      - \"19530:19530\"\n",
    "      - \"9091:9091\"\n",
    "    deploy:\n",
    "      resources:\n",
    "        reservations:\n",
    "          devices:\n",
    "            - driver: nvidia\n",
    "              capabilities: [\"gpu\"]\n",
    "              device_ids: [\"0\"]\n",
    "    depends_on:\n",
    "      - \"etcd\"\n",
    "      - \"minio\"\n",
    "\n",
    "networks:\n",
    "  default:\n",
    "    name: milvus\n"
   ]
  },
  {
   "cell_type": "markdown",
   "metadata": {},
   "source": [
    "2. Start Milvus by running `docker compose`: "
   ]
  },
  {
   "cell_type": "code",
   "execution_count": null,
   "metadata": {
    "vscode": {
     "languageId": "shellscript"
    }
   },
   "outputs": [],
   "source": [
    "sudo docker compose up -d"
   ]
  }
 ],
 "metadata": {
  "language_info": {
   "name": "python"
  }
 },
 "nbformat": 4,
 "nbformat_minor": 2
}
